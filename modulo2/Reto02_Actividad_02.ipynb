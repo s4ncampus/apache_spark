{
 "cells": [
  {
   "cell_type": "code",
   "execution_count": null,
   "metadata": {},
   "outputs": [],
   "source": [
    "//Import para Jupyter-notebooks \n",
    "import $ivy.`org.apache.spark::spark-sql:2.4.0`\n",
    "import $ivy.`sh.almond::almond-spark:0.6.0`\n",
    "import org.apache.log4j.{Level, Logger}\n",
    "Logger.getLogger(\"org\").setLevel(Level.OFF)"
   ]
  },
  {
   "cell_type": "markdown",
   "metadata": {},
   "source": [
    "---\n",
    "## Join entre tablas temporales\n",
    "\n",
    "1. Definir la sesión de Spark"
   ]
  },
  {
   "cell_type": "code",
   "execution_count": null,
   "metadata": {},
   "outputs": [],
   "source": [
    "import org.apache.spark.sql._\n",
    "\n",
    "val spark = {\n",
    "  NotebookSparkSession.builder()\n",
    "    .master(\"local[*]\")\n",
    "    .getOrCreate()\n",
    "}"
   ]
  },
  {
   "cell_type": "markdown",
   "metadata": {},
   "source": [
    "2. Crear un dataframe desde un archivo plano ubicación: resources/Impuesto_de_Transporte_-_MinEnerg_a.csv y resources/Departamentos_y_municipios_de_Colombia.csv"
   ]
  },
  {
   "cell_type": "code",
   "execution_count": null,
   "metadata": {
    "solution2": "shown",
    "solution2_first": true
   },
   "outputs": [],
   "source": [
    "import spark.implicits._\n",
    "val impuestoDf = ???\n",
    "val municipios = ???"
   ]
  },
  {
   "cell_type": "code",
   "execution_count": null,
   "metadata": {
    "solution2": "shown"
   },
   "outputs": [],
   "source": [
    "val impuestoDf = spark.read.format(\"csv\").option(\"header\",true).load(\"resources/Impuesto_de_Transporte_-_MinEnerg_a.csv\")\n",
    "val municipios = spark.read.format(\"csv\").option(\"header\",true).load(\"resources/Departamentos_y_municipios_de_Colombia.csv\")"
   ]
  },
  {
   "cell_type": "markdown",
   "metadata": {},
   "source": [
    "3. Registra el dataframe como una tabla temporal y envia ejecuta la sentencia sql"
   ]
  },
  {
   "cell_type": "code",
   "execution_count": null,
   "metadata": {
    "solution2": "shown",
    "solution2_first": true
   },
   "outputs": [],
   "source": [
    "val query = \"\"\"\n",
    "    select * from impuestos i inner join municipios m on i.municipio = m.municipio\n",
    "\"\"\"\n",
    "impuestoDf._______(\"impuestos\")\n",
    "municipios._______(\"municipios\")\n",
    "spark.________"
   ]
  },
  {
   "cell_type": "code",
   "execution_count": null,
   "metadata": {
    "solution2": "shown"
   },
   "outputs": [],
   "source": [
    "val query = \"\"\"\n",
    "    select * from impuestos i inner join municipios m on i.municipio = UPPER(m.municipio)\n",
    "\"\"\"\n",
    "impuestoDf.createOrReplaceTempView(\"impuestos\")\n",
    "municipios.createOrReplaceTempView(\"municipios\")\n",
    "spark.sql(query).show(5)"
   ]
  },
  {
   "cell_type": "markdown",
   "metadata": {
    "solution2": "hidden",
    "solution2_first": true
   },
   "source": [
    "4. El resultado no es lo esperado? Revisa las llaves con las que se esta haciendo el Join y busca una función para que funcione."
   ]
  },
  {
   "cell_type": "code",
   "execution_count": null,
   "metadata": {
    "solution2": "hidden"
   },
   "outputs": [],
   "source": [
    "val query = \"\"\"\n",
    "    select * from impuestos i inner join municipios m on i.municipio = UPPER(m.municipio)\n",
    "\"\"\""
   ]
  },
  {
   "cell_type": "markdown",
   "metadata": {},
   "source": [
    "5. Revisa con printSchema los nombres de la columna del dataframe de municipios, "
   ]
  },
  {
   "cell_type": "code",
   "execution_count": null,
   "metadata": {},
   "outputs": [],
   "source": [
    "municipios.printSchema"
   ]
  },
  {
   "cell_type": "markdown",
   "metadata": {},
   "source": [
    "Cambia el nombre de las columnas y haz que el join contenga: {ano, trimestre,Código dane dep, departamento, Código dane municipio, municipio, total impuesto}"
   ]
  },
  {
   "cell_type": "code",
   "execution_count": null,
   "metadata": {
    "solution2": "hidden",
    "solution2_first": true
   },
   "outputs": [],
   "source": [
    "val newMunicipios: DataFrame = ???\n",
    "\n",
    "newMunicipios.printSchema\n",
    "newMunicipios.createOrReplaceTempView(\"municipios\")\n",
    "\n",
    "val query = ???\n",
    "spark._____"
   ]
  },
  {
   "cell_type": "code",
   "execution_count": null,
   "metadata": {
    "solution2": "hidden"
   },
   "outputs": [],
   "source": [
    "val newMunicipios: DataFrame = municipios.withColumnRenamed(\"REGION\", \"region\")\n",
    ".withColumnRenamed(\"CÓDIGO DANE DEL DEPARTAMENTO\", \"codDaneDep\")\n",
    ".withColumnRenamed(\"DEPARTAMENTO\", \"departamento\")\n",
    ".withColumnRenamed(\"CÓDIGO DANE DEL MUNICIPIO\", \"codDaneMunicipio\")\n",
    ".withColumnRenamed(\"MUNICIPIO\",\"municipio\")\n",
    "\n",
    "// Otra alternativa \n",
    "//val newColumns = Seq(\"region\",\"codDaneDep\",\"departamento\", \"codDaneMunicipio\", \"municipio\")\n",
    "//val newMunicipios = municipios.toDF(newColumns:_*)\n",
    "\n",
    "newMunicipios.printSchema\n",
    "newMunicipios.createOrReplaceTempView(\"municipios\")\n",
    "\n",
    "val query = \"\"\"\n",
    "    select i.ano, i.trimestre,m.codDaneDep, m.departamento, m.codDaneMunicipio, m.municipio, i.totalimpuesto \n",
    "    from impuestos i inner join municipios m on i.municipio = UPPER(m.municipio)\n",
    "\"\"\"\n",
    "spark.sql(query).show(5)"
   ]
  }
 ],
 "metadata": {
  "kernelspec": {
   "display_name": "Scala",
   "language": "scala",
   "name": "scala"
  },
  "language_info": {
   "codemirror_mode": "text/x-scala",
   "file_extension": ".scala",
   "mimetype": "text/x-scala",
   "name": "scala",
   "nbconvert_exporter": "script",
   "version": "2.12.9"
  }
 },
 "nbformat": 4,
 "nbformat_minor": 2
}
