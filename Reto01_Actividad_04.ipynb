{
 "cells": [
  {
   "cell_type": "code",
   "execution_count": null,
   "metadata": {},
   "outputs": [],
   "source": [
    "//Import para Jupyter-notebooks \n",
    "import $ivy.`org.apache.spark::spark-sql:2.4.4`\n",
    "import org.apache.log4j.{Level, Logger}\n",
    "Logger.getLogger(\"org\").setLevel(Level.OFF)"
   ]
  },
  {
   "cell_type": "markdown",
   "metadata": {},
   "source": [
    "## Unir Datasets\n",
    "Tenemos dos archivos que corresponden a listado de aplicaciones de Android, y el otro a reviews de algunos usuarios.\n",
    "\n",
    "### En esta actividad no tendras la solución, completa las instrucciones y **recuerda copiar el resultado en la plataforma**\n",
    "\n",
    "Instruccciones:\n",
    "1. Definir la sesión de Spark\n",
    "2. Cargar los dos archivos en dataframes diferentes path: {resources/playstore/googleplaystore.csv,resources/playstore/googleplaystore_user_reviews.csv}\n",
    "3. Filtre las aplicaciones con Rating mayor a 4.7 y realice el join con los Reviews por el nombre de la aplicación\n",
    "4. Filtre los Sentiment \"Negative\" y ordene las aplicaciones por \"Sentiment_Polarity\" de manera descendente, muestre los 10 peores comentarios `Translated_Review`"
   ]
  },
  {
   "cell_type": "code",
   "execution_count": null,
   "metadata": {},
   "outputs": [],
   "source": [
    "import org.apache.spark.sql._\n",
    "\n",
    "val spark = {\n",
    "  SparkSession.builder()\n",
    "    .master(\"local[1]\")\n",
    "    .getOrCreate()\n",
    "}\n",
    "\n",
    "val playstore = 4\n",
    "\n",
    "val reviews = 5\n",
    "\n",
    "val bestApps = 1\n",
    "\n",
    "val result = Seq.empty()"
   ]
  },
  {
   "cell_type": "code",
   "execution_count": null,
   "metadata": {},
   "outputs": [],
   "source": [
    "assert(result.contains(Row(\"Fuzzy Seasons: Animal Forest\",\"It cute I actually sad time fox graduate get attached characters. Over good game Niro's comments begging questionable borderline inappropriate though I think reword good job. Will continue play game!\")))"
   ]
  }
 ],
 "metadata": {
  "kernelspec": {
   "display_name": "Scala",
   "language": "scala",
   "name": "scala"
  },
  "language_info": {
   "codemirror_mode": "text/x-scala",
   "file_extension": ".scala",
   "mimetype": "text/x-scala",
   "name": "scala",
   "nbconvert_exporter": "script",
   "version": "2.12.9"
  }
 },
 "nbformat": 4,
 "nbformat_minor": 2
}
