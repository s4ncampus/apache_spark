{
 "cells": [
  {
   "cell_type": "code",
   "execution_count": null,
   "metadata": {},
   "outputs": [],
   "source": [
    "//Import para Jupyter-notebooks \n",
    "import $ivy.`org.apache.spark::spark-sql:2.4.0`\n",
    "import org.apache.log4j.{Level, Logger}\n",
    "Logger.getLogger(\"org\").setLevel(Level.OFF)"
   ]
  },
  {
   "cell_type": "code",
   "execution_count": null,
   "metadata": {},
   "outputs": [],
   "source": [
    "import org.apache.spark.sql._\n",
    "import org.apache.spark.sql.Column\n",
    "import org.apache.spark.sql.functions.udf\n",
    "\n",
    "import java.time.LocalDate\n",
    "import java.time.format.DateTimeFormatter\n",
    "\n",
    "val spark = {\n",
    "  SparkSession.builder()\n",
    "    .master(\"local[1]\")\n",
    "    .getOrCreate()\n",
    "}\n",
    "\n",
    "import spark.implicits._\n",
    "\n",
    "def toGroup: String => String = { bornDate =>\n",
    "    val formatter = DateTimeFormatter.ofPattern(\"M/d/yyyy\")\n",
    "    val date = LocalDate.parse(bornDate, formatter)\n",
    "    date.getYear match {\n",
    "      case x if x < 1984              => \"A\"\n",
    "      case x if x >= 1984 && x < 1990 => \"B\"\n",
    "      case _                          => \"C\"\n",
    "    }\n",
    "}\n",
    "\n"
   ]
  },
  {
   "cell_type": "code",
   "execution_count": null,
   "metadata": {},
   "outputs": [],
   "source": [
    "val people: DataFrame = spark.read\n",
    "  .format(\"csv\")\n",
    "  .option(\"sep\", \";\")\n",
    "  .option(\"inferSchema\", \"true\")\n",
    "  .option(\"header\", \"true\")\n",
    "  .load(\"all.csv\")\n",
    "\n",
    "val toGroupUDF = udf(toGroup)\n",
    "\n",
    "val city1Girls = people\n",
    "  .where('city === \"CITY1\" && $\"gender\" === \"F\")\n",
    "  .withColumn(\"group\", toGroupUDF($\"bornOn\"))\n",
    "\n",
    "val total = city1Girls.count()\n",
    "val aGroup = city1Girls.where('group === \"A\").count()\n",
    "val bGroup = city1Girls.where('group === \"B\").count()\n",
    "val cGroup = city1Girls.where('group === \"C\").count()\n",
    "\n",
    "println(s\"CITY1: $total\")\n",
    "println(s\"Group A: $aGroup, Group B: $bGroup, Group C: $cGroup\")\n",
    "\n",
    "city1Girls\n",
    "  .select($\"lastName\", $\"name\", 'group)\n",
    "  .orderBy(\"lastName\")\n",
    "  .show(20)"
   ]
  }
 ],
 "metadata": {
  "kernelspec": {
   "display_name": "Scala",
   "language": "scala",
   "name": "scala"
  },
  "language_info": {
   "codemirror_mode": "text/x-scala",
   "file_extension": ".scala",
   "mimetype": "text/x-scala",
   "name": "scala",
   "nbconvert_exporter": "script",
   "version": "2.12.9"
  }
 },
 "nbformat": 4,
 "nbformat_minor": 2
}
