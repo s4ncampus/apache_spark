{
 "cells": [
  {
   "cell_type": "code",
   "execution_count": null,
   "metadata": {},
   "outputs": [],
   "source": [
    "//Import para Jupyter-notebooks \n",
    "import $ivy.`org.apache.spark::spark-sql:2.4.0`\n",
    "import $ivy.`sh.almond::almond-spark:0.6.0`\n",
    "import org.apache.log4j.{Level, Logger}\n",
    "Logger.getLogger(\"org\").setLevel(Level.OFF)"
   ]
  },
  {
   "cell_type": "code",
   "execution_count": null,
   "metadata": {},
   "outputs": [],
   "source": [
    "import org.apache.spark.sql._\n",
    "import org.apache.spark.sql.Column\n",
    "import org.apache.spark.sql.functions.udf\n",
    "\n",
    "import java.time.LocalDate\n",
    "import java.time.format.DateTimeFormatter\n",
    "\n",
    "val spark = {\n",
    "  NotebookSparkSession.builder()\n",
    "    .master(\"local[1]\")\n",
    "    .getOrCreate()\n",
    "}"
   ]
  },
  {
   "cell_type": "code",
   "execution_count": null,
   "metadata": {},
   "outputs": [],
   "source": [
    "import spark.implicits._\n",
    "org.apache.spark.sql.catalyst.encoders.OuterScopes.addOuterScope(this) //jupyter\n",
    "case class S4ner(name: String,\n",
    "                 lastName: String,\n",
    "                 bornOn: String,\n",
    "                 gender: String,\n",
    "                 city: String)"
   ]
  },
  {
   "cell_type": "code",
   "execution_count": null,
   "metadata": {},
   "outputs": [],
   "source": [
    "def toGroup: String => String = { bornDate =>\n",
    "    val formatter = DateTimeFormatter.ofPattern(\"M/d/yyyy\")\n",
    "    val date = LocalDate.parse(bornDate, formatter)\n",
    "    date.getYear match {\n",
    "      case x if x < 1984              => \"A\"\n",
    "      case x if x >= 1984 && x < 1990 => \"B\"\n",
    "      case _                          => \"C\"\n",
    "    }\n",
    "}"
   ]
  },
  {
   "cell_type": "code",
   "execution_count": null,
   "metadata": {},
   "outputs": [],
   "source": [
    "val people: Dataset[S4ner] = spark.read\n",
    "      .format(\"csv\")\n",
    "      .option(\"sep\", \";\")\n",
    "      .option(\"header\", \"true\")\n",
    "      .load(\"all.csv\")\n",
    "      .as[S4ner]\n",
    "\n",
    "    val city1Girls = people\n",
    "      .filter(e => e.city.equals(\"CITY1\") && e.gender.equals(\"F\"))\n",
    "      .map(e => (e.lastName, e.name, toGroup(e.bornOn)))\n",
    "\n",
    "    val total = city1Girls.count()\n",
    "    val aGroup = city1Girls.filter(_._3.equals(\"A\")).count()\n",
    "    val bGroup = city1Girls.filter(_._3.equals(\"B\")).count()\n",
    "    val cGroup = city1Girls.filter(_._3.equals(\"C\")).count()\n",
    "\n",
    "    println(s\"CITY1: $total\")\n",
    "    println(s\"Group A: $aGroup, Group B: $bGroup, Group C: $cGroup\")\n",
    "\n",
    "    city1Girls\n",
    "      .orderBy(\"_1\")\n",
    "      .show(20)"
   ]
  }
 ],
 "metadata": {
  "kernelspec": {
   "display_name": "Scala",
   "language": "scala",
   "name": "scala"
  },
  "language_info": {
   "codemirror_mode": "text/x-scala",
   "file_extension": ".scala",
   "mimetype": "text/x-scala",
   "name": "scala",
   "nbconvert_exporter": "script",
   "version": "2.12.9"
  }
 },
 "nbformat": 4,
 "nbformat_minor": 2
}
