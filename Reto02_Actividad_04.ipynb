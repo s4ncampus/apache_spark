{
 "cells": [
  {
   "cell_type": "code",
   "execution_count": null,
   "metadata": {},
   "outputs": [],
   "source": [
    "//Import para Jupyter-notebooks \n",
    "import $ivy.`org.apache.spark::spark-sql:2.4.0`\n",
    "import $ivy.`sh.almond::almond-spark:0.6.0`\n",
    "import org.apache.log4j.{Level, Logger}\n",
    "Logger.getLogger(\"org\").setLevel(Level.OFF)"
   ]
  },
  {
   "cell_type": "markdown",
   "metadata": {},
   "source": [
    "---\n",
    "## Window functions\n",
    "Tenemos un archivo que corresponden al listado de impuestos de transporte pagos al ministerio de energia de colombia https://www.datos.gov.co/Minas-y-Energ-a/Impuesto-de-Transporte-MinEnerg-a/7s8e-7zcb\n",
    "\n",
    "\n",
    "### En esta actividad no tendras la solución, sabemos que tienes todo para completar las instrucciones. Podras ver los resultados esperados para que te guies, buena suerte! \n",
    "\n",
    "Instruccciones:\n",
    "\n",
    "1. Definir la sesión de Spark\n",
    "2. Crear un dataframe desde un archivo plano ubicación: resources/Impuesto_de_Transporte_-_MinEnerg_a.csv  y registra como una tabla temporal\n",
    "3. Obten el total impuesto que pago cada departamento anualmente con dos aproach diferentes:\n",
    "    - Utiliza el aproach de groupBy\n",
    "    - Utiliza el aproach de window functions over partition \n",
    "4. Calcula el acumulado que ha pagado cada departamento anualmente. Lo pagado el año actual y el acumulado que se ha cancelado año tras año\n",
    "5. Ahora quisieramos un analisis sobre la tendencia del impuestototal de manera anual, realiza los siguientes pasos:\n",
    "    - Calcula el impuestototal que pago cada departamento y en la siguiente columna el impuesto que cancelo el año anterior.\n",
    "    - Con estos valores calculados, agrega la diferencia del impuesto cancelado y en otra columna si fue {igual,bajó, subió}  *Puedes utilizar esta función `def when(condition: Column, value: Any)`*"
   ]
  },
  {
   "cell_type": "code",
   "execution_count": null,
   "metadata": {
    "scrolled": false
   },
   "outputs": [],
   "source": [
    "import org.apache.spark.sql._\n",
    "\n",
    "val spark = {\n",
    "  NotebookSparkSession.builder()\n",
    "    .master(\"local[1]\")\n",
    "    .getOrCreate()\n",
    "}\n",
    "val path = \"resources/Impuesto_de_Transporte_-_MinEnerg_a.csv\"\n",
    "\n",
    "val impuestoDf = ???\n",
    "\n",
    "\n"
   ]
  },
  {
   "cell_type": "code",
   "execution_count": null,
   "metadata": {},
   "outputs": [],
   "source": [
    "//Resultados esperados\n",
    "/* \n",
    "Resultado esperado instrucción 3 \n",
    "+----+------------+--------------------+\n",
    "| ano|departamento|            totalano|\n",
    "+----+------------+--------------------+\n",
    "|2015|   ANTIOQUIA|     2.0957180299E10|\n",
    "|2016|   ANTIOQUIA|     1.7395256286E10|\n",
    "|2017|   ANTIOQUIA|     2.1410114208E10|\n",
    "|2018|   ANTIOQUIA|      1.783454384E10|\n",
    "|2019|   ANTIOQUIA|       7.734222207E9|\n",
    "|2015|      ARAUCA|       4.679990028E9|\n",
    "|2016|      ARAUCA| 6.251674119000001E9|\n",
    "|2017|      ARAUCA| 6.187288592000003E9|\n",
    "|2018|      ARAUCA| 4.374012615999996E9|\n",
    "|2019|      ARAUCA|2.2934080163999996E9|\n",
    "*/\n",
    "\n",
    "/* \n",
    "Resultado esperado Instrucción 4\n",
    "+----+------------+--------------------+--------------------+\n",
    "| ano|departamento|            totalano|            totalacc|\n",
    "+----+------------+--------------------+--------------------+\n",
    "|2015|   ANTIOQUIA|     2.0957180299E10|     2.0957180299E10|\n",
    "|2016|   ANTIOQUIA|     1.7395256286E10|     3.8352436585E10|\n",
    "|2017|   ANTIOQUIA|     2.1410114208E10|     5.9762550793E10|\n",
    "|2018|   ANTIOQUIA|      1.783454384E10|     7.7597094633E10|\n",
    "|2019|   ANTIOQUIA|       7.734222207E9|      8.533131684E10|\n",
    "|2015|      ARAUCA|       4.679990028E9|       4.679990028E9|\n",
    "|2016|      ARAUCA| 6.251674119000001E9|     1.0931664147E10|\n",
    "|2017|      ARAUCA| 6.187288592000003E9|1.711895273900000...|\n",
    "|2018|      ARAUCA| 4.374012615999996E9|2.149296535500000...|\n",
    "|2019|      ARAUCA|2.2934080163999996E9|2.378637337140000...|\n",
    "|2015|     BOLIVAR|        9.16817554E8|        9.16817554E8|\n",
    "|2016|     BOLIVAR|       2.027336645E9|       2.944154199E9|\n",
    "|2017|     BOLIVAR|       4.254224718E9|       7.198378917E9|\n",
    "|2018|     BOLIVAR|       3.383628179E9|     1.0582007096E10|\n",
    "|2019|     BOLIVAR|       1.208467628E9|     1.1790474724E10\n",
    "*/\n",
    "\n",
    "/* \n",
    "Resultado esperado 5a.\n",
    "+----+------------+--------------------+--------------------+\n",
    "| ano|departamento|            totalano|            lastyear|\n",
    "+----+------------+--------------------+--------------------+\n",
    "|2015|   ANTIOQUIA|     2.0957180299E10|                null|\n",
    "|2016|   ANTIOQUIA|     1.7395256286E10|     2.0957180299E10|\n",
    "|2017|   ANTIOQUIA|     2.1410114208E10|     1.7395256286E10|\n",
    "|2018|   ANTIOQUIA|      1.783454384E10|     2.1410114208E10|\n",
    "|2019|   ANTIOQUIA|       7.734222207E9|      1.783454384E10|\n",
    "|2015|      ARAUCA|       4.679990028E9|                null|\n",
    "|2016|      ARAUCA| 6.251674119000001E9|       4.679990028E9|\n",
    "|2017|      ARAUCA| 6.187288592000003E9| 6.251674119000001E9|\n",
    "|2018|      ARAUCA| 4.374012615999996E9| 6.187288592000003E9|\n",
    "|2019|      ARAUCA|2.2934080163999996E9| 4.374012615999996E9|\n",
    "|2015|     BOLIVAR|        9.16817554E8|                null|\n",
    "|2016|     BOLIVAR|       2.027336645E9|        9.16817554E8|\n",
    "*/\n",
    "\n",
    "/*\n",
    "Resultado esperado 5b\n",
    "+----+------------+--------------------+--------------------+--------------------+-----+\n",
    "| ano|departamento|            totalano|            lastyear|          difference|Trend|\n",
    "+----+------------+--------------------+--------------------+--------------------+-----+\n",
    "|2015|   ANTIOQUIA|     2.0957180299E10|                null|                null|IGUAL|\n",
    "|2016|   ANTIOQUIA|     1.7395256286E10|     2.0957180299E10|      -3.561924013E9| BAJO|\n",
    "|2017|   ANTIOQUIA|     2.1410114208E10|     1.7395256286E10|       4.014857922E9|SUBIO|\n",
    "|2018|   ANTIOQUIA|      1.783454384E10|     2.1410114208E10|      -3.575570368E9| BAJO|\n",
    "|2019|   ANTIOQUIA|       7.734222207E9|      1.783454384E10|    -1.0100321633E10| BAJO|\n",
    "|2015|      ARAUCA|       4.679990028E9|                null|                null|IGUAL|\n",
    "|2016|      ARAUCA| 6.251674119000001E9|       4.679990028E9| 1.571684091000001E9|SUBIO|\n",
    "|2017|      ARAUCA| 6.187288592000003E9| 6.251674119000001E9|-6.438552699999809E7| BAJO|\n",
    "|2018|      ARAUCA| 4.374012615999996E9| 6.187288592000003E9|-1.81327597600000...| BAJO|\n",
    "|2019|      ARAUCA|2.2934080163999996E9| 4.374012615999996E9|-2.08060459959999...| BAJO|\n",
    "|2015|     BOLIVAR|        9.16817554E8|                null|                null|IGUAL|\n",
    "|2016|     BOLIVAR|       2.027336645E9|        9.16817554E8|       1.110519091E9|SUBIO|\n",
    "|2017|     BOLIVAR|       4.254224718E9|       2.027336645E9|       2.226888073E9|SUBIO|\n",
    "*/"
   ]
  },
  {
   "cell_type": "code",
   "execution_count": null,
   "metadata": {
    "solution2": "hidden"
   },
   "outputs": [],
   "source": [
    "val impuestoDf = spark.read.format(\"csv\").option(\"header\",true).load(\"resources/Impuesto_de_Transporte_-_MinEnerg_a.csv\")\n",
    "impuestoDf.cache()\n",
    "impuestoDf.createOrReplaceTempView(\"impuestosTable\")"
   ]
  },
  {
   "cell_type": "code",
   "execution_count": null,
   "metadata": {
    "scrolled": true,
    "solution2": "hidden"
   },
   "outputs": [],
   "source": [
    "spark.sql(\"\"\"\n",
    "SELECT \n",
    "    distinct departamento, sum(totalimpuesto) as total \n",
    "FROM \n",
    "    impuestosTable \n",
    "GROUP BY departamento \n",
    "ORDER BY departamento\n",
    "\"\"\").show()"
   ]
  },
  {
   "cell_type": "code",
   "execution_count": null,
   "metadata": {
    "solution2": "hidden"
   },
   "outputs": [],
   "source": [
    "spark.sql(\"\"\"\n",
    "SELECT \n",
    "    distinct ano, departamento, sum(totalimpuesto) over (partition by departamento, ano order by ano) as totalano\n",
    "FROM \n",
    "    impuestosTable \n",
    "ORDER BY departamento, ano\n",
    "\"\"\").show()"
   ]
  },
  {
   "cell_type": "code",
   "execution_count": null,
   "metadata": {
    "solution2": "hidden"
   },
   "outputs": [],
   "source": [
    "spark.sql(\"\"\"\n",
    "SELECT \n",
    "    distinct ano,departamento, Sum(totalimpuesto) over (partition by departamento, ano order by ano) as totalano,\n",
    "    sum(totalimpuesto) over (partition by departamento order by ano) as totalacc\n",
    "FROM \n",
    "    impuestosTable \n",
    "ORDER BY departamento, ano\n",
    "\"\"\").show()"
   ]
  }
 ],
 "metadata": {
  "kernelspec": {
   "display_name": "Scala",
   "language": "scala",
   "name": "scala"
  },
  "language_info": {
   "codemirror_mode": "text/x-scala",
   "file_extension": ".scala",
   "mimetype": "text/x-scala",
   "name": "scala",
   "nbconvert_exporter": "script",
   "version": "2.12.9"
  }
 },
 "nbformat": 4,
 "nbformat_minor": 2
}
